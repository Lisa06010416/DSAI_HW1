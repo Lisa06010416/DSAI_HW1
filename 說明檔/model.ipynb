{
 "cells": [
  {
   "cell_type": "markdown",
   "metadata": {},
   "source": [
    "### import library"
   ]
  },
  {
   "cell_type": "code",
   "execution_count": 1,
   "metadata": {},
   "outputs": [
    {
     "name": "stderr",
     "output_type": "stream",
     "text": [
      "Using TensorFlow backend.\n"
     ]
    },
    {
     "ename": "ModuleNotFoundError",
     "evalue": "No module named 'preprocess'",
     "output_type": "error",
     "traceback": [
      "\u001b[1;31m---------------------------------------------------------------------------\u001b[0m",
      "\u001b[1;31mModuleNotFoundError\u001b[0m                       Traceback (most recent call last)",
      "\u001b[1;32m<ipython-input-1-f6d34de6a513>\u001b[0m in \u001b[0;36m<module>\u001b[1;34m()\u001b[0m\n\u001b[0;32m      1\u001b[0m \u001b[1;32mfrom\u001b[0m \u001b[0mkeras\u001b[0m\u001b[1;33m.\u001b[0m\u001b[0mmodels\u001b[0m \u001b[1;32mimport\u001b[0m \u001b[0mModel\u001b[0m\u001b[1;33m\u001b[0m\u001b[0m\n\u001b[0;32m      2\u001b[0m \u001b[1;32mfrom\u001b[0m \u001b[0mkeras\u001b[0m\u001b[1;33m.\u001b[0m\u001b[0mlayers\u001b[0m \u001b[1;32mimport\u001b[0m \u001b[1;33m*\u001b[0m\u001b[1;33m\u001b[0m\u001b[0m\n\u001b[1;32m----> 3\u001b[1;33m \u001b[1;32mimport\u001b[0m \u001b[0mpreprocess\u001b[0m \u001b[1;32mas\u001b[0m \u001b[0mp\u001b[0m\u001b[1;33m\u001b[0m\u001b[0m\n\u001b[0m\u001b[0;32m      4\u001b[0m \u001b[1;32mimport\u001b[0m \u001b[0mos\u001b[0m\u001b[1;33m\u001b[0m\u001b[0m\n\u001b[0;32m      5\u001b[0m \u001b[1;32mfrom\u001b[0m \u001b[0mkeras\u001b[0m\u001b[1;33m.\u001b[0m\u001b[0mcallbacks\u001b[0m \u001b[1;32mimport\u001b[0m \u001b[0mModelCheckpoint\u001b[0m\u001b[1;33m\u001b[0m\u001b[0m\n",
      "\u001b[1;31mModuleNotFoundError\u001b[0m: No module named 'preprocess'"
     ]
    }
   ],
   "source": [
    "from keras.models import Model\n",
    "from keras.layers import *\n",
    "import preprocess as p\n",
    "import os\n",
    "from keras.callbacks import ModelCheckpoint\n",
    "\n",
    "os.environ[\"KMP_DUPLICATE_LIB_OK\"]=\"TRUE\""
   ]
  },
  {
   "cell_type": "markdown",
   "metadata": {},
   "source": [
    "### loss function"
   ]
  },
  {
   "cell_type": "code",
   "execution_count": null,
   "metadata": {},
   "outputs": [],
   "source": [
    "def root_mean_squared_error(y_true, y_pred):\n",
    "    return K.sqrt(K.mean(K.square(y_pred - y_true), axis=-1))"
   ]
  },
  {
   "cell_type": "markdown",
   "metadata": {},
   "source": [
    "### training data preprocess"
   ]
  },
  {
   "cell_type": "code",
   "execution_count": null,
   "metadata": {},
   "outputs": [],
   "source": [
    "# ~~~~~~~~~~~~~~~~~~~~~訓練資料前處理~~~~~~~~~~~~~~~~~~~~~~\n",
    "# 讀檔\n",
    "dataset = p.readFIle('data/2017to2018_power.csv')\n",
    "\n",
    "# 將檔案切分成2017年 和2018年\n",
    "Y2017_dataset = dataset.loc[dataset[\"日期\"]<=20179999.0]\n",
    "Y2018_dataset = dataset.loc[dataset[\"日期\"]>=20179999.0]\n",
    "Y2018_dataset.index = range(len(Y2018_dataset))\n",
    "\n",
    "# 拿Mean std\n",
    "dataset[\"日期\"] = (dataset[\"日期\"] % 10000.)\n",
    "mean = dataset.mean(axis=0)\n",
    "std = dataset.std(axis=0)\n",
    "np.save(\"mean.npy\",mean)\n",
    "np.save(\"std.npy\",std)\n",
    "\n",
    "# 獲得訓練資料\n",
    "trainData, trainTarget, trainIntput2 = p.getTraindata(Y2017_dataset, Y2018_dataset,mean,std)\n",
    "size_in_1 = len(trainData[0])\n",
    "size_in_2 = len(trainIntput2[0])\n",
    "size_target = len(trainTarget[0])\n",
    "print(np.size(trainIntput2))\n",
    "# reshap\n",
    "trainData = np.array(trainData).reshape(len(trainData),1,size_in_1)\n",
    "trainTarget = np.array(trainTarget).reshape(len(trainTarget),1,size_target)\n",
    "trainIntput2 = np.array(trainIntput2).reshape(len(trainIntput2),1,size_in_2)\n"
   ]
  },
  {
   "cell_type": "markdown",
   "metadata": {},
   "source": [
    " ### test data preprocess"
   ]
  },
  {
   "cell_type": "code",
   "execution_count": null,
   "metadata": {},
   "outputs": [],
   "source": [
    "# ~~~~~~~~~~~~~~~~~~~~~測試資料前處理~~~~~~~~~~~~~~~~~~~~~~\n",
    "# 獲得測試資料\n",
    "# 讀檔\n",
    "test_dataset = p.readFIle('data/2018to2019_power.csv')\n",
    "\n",
    "# 將檔案切分成2018年 和2019年\n",
    "Y2018_dataset = test_dataset.loc[test_dataset[\"日期\"] <= 20189999.0]\n",
    "Y2019_dataset = test_dataset.loc[test_dataset[\"日期\"] >= 20189999.0]\n",
    "Y2019_dataset.index = range(len(Y2019_dataset))\n",
    "\n",
    "# 獲得測試資料\n",
    "testData, testTarget, testIntput2 = p.getTraindata(Y2018_dataset, Y2019_dataset,mean,std)\n",
    "\n",
    "# reshap\n",
    "testData = np.array(testData).reshape(len(testData),1,size_in_1)\n",
    "testTarget = np.array(testTarget).reshape(len(testTarget),1,size_target)\n",
    "testIntput2 = np.array(testIntput2).reshape(len(testIntput2),1,size_in_2)"
   ]
  },
  {
   "cell_type": "markdown",
   "metadata": {},
   "source": [
    "### model construct"
   ]
  },
  {
   "cell_type": "code",
   "execution_count": null,
   "metadata": {},
   "outputs": [],
   "source": [
    "input1 = Input(shape=(1,size_in_1))\n",
    "input2 = Input(shape=(1,size_in_2))\n",
    "\n",
    "x=Dense(64, activation='sigmoid')(input1)\n",
    "x=Dense(16, activation='relu')(x)\n",
    "model1=Dense(7, activation='relu')(x)\n",
    "\n",
    "# model2 = input2\n",
    "model2 = Dense(7, activation='relu')(input2)\n",
    "model2 = Dense(7, activation='relu')(model2)\n",
    "\n",
    "added = Add()([model1, model2])\n",
    "\n",
    "model = Model(inputs=[input1, input2], outputs=added)\n",
    "model.compile(optimizer='adam', loss=root_mean_squared_error)\n",
    "\n",
    "\n",
    "filepath=\"weights.best.hdf5\"\n",
    "checkpoint = ModelCheckpoint(filepath, monitor='val_loss', verbose=1, save_best_only=True, mode='min')\n",
    "callbacks_list = [checkpoint]\n"
   ]
  },
  {
   "cell_type": "markdown",
   "metadata": {},
   "source": [
    "### model training"
   ]
  },
  {
   "cell_type": "code",
   "execution_count": null,
   "metadata": {},
   "outputs": [],
   "source": [
    "model.fit([trainData,trainIntput2], trainTarget,\n",
    "                epochs=1000,\n",
    "                batch_size=20,\n",
    "                shuffle=True,\n",
    "                validation_data=([testData,testIntput2], testTarget),\n",
    "                 callbacks=callbacks_list\n",
    "                )\n"
   ]
  }
 ],
 "metadata": {
  "kernelspec": {
   "display_name": "Python 3",
   "language": "python",
   "name": "python3"
  },
  "language_info": {
   "codemirror_mode": {
    "name": "ipython",
    "version": 3
   },
   "file_extension": ".py",
   "mimetype": "text/x-python",
   "name": "python",
   "nbconvert_exporter": "python",
   "pygments_lexer": "ipython3",
   "version": "3.6.5"
  }
 },
 "nbformat": 4,
 "nbformat_minor": 2
}

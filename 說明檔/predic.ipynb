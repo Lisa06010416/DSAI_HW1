{
 "cells": [
  {
   "cell_type": "markdown",
   "metadata": {},
   "source": [
    "### import liberary"
   ]
  },
  {
   "cell_type": "code",
   "execution_count": null,
   "metadata": {},
   "outputs": [],
   "source": [
    "from keras.models import load_model\n",
    "from keras.models import Model\n",
    "from keras.layers import *\n",
    "import preprocess as p"
   ]
  },
  {
   "cell_type": "markdown",
   "metadata": {},
   "source": [
    "###  loss fun"
   ]
  },
  {
   "cell_type": "code",
   "execution_count": null,
   "metadata": {},
   "outputs": [],
   "source": [
    "def root_mean_squared_error(y_true, y_pred):\n",
    "    return K.sqrt(K.mean(K.square(y_pred - y_true), axis=-1))"
   ]
  },
  {
   "cell_type": "markdown",
   "metadata": {},
   "source": [
    "readfile"
   ]
  },
  {
   "cell_type": "code",
   "execution_count": null,
   "metadata": {},
   "outputs": [],
   "source": [
    "# 讀檔\n",
    "dataset = p.readFIle('data/2017to2018_power.csv')\n",
    "mean = np.load('mean.npy')\n",
    "std = np.load('std.npy')\n",
    "# dataset = (dataset - mean) / std"
   ]
  },
  {
   "cell_type": "markdown",
   "metadata": {},
   "source": [
    "### preprocess"
   ]
  },
  {
   "cell_type": "code",
   "execution_count": 1,
   "metadata": {},
   "outputs": [
    {
     "ename": "NameError",
     "evalue": "name 'dataset' is not defined",
     "output_type": "error",
     "traceback": [
      "\u001b[1;31m---------------------------------------------------------------------------\u001b[0m",
      "\u001b[1;31mNameError\u001b[0m                                 Traceback (most recent call last)",
      "\u001b[1;32m<ipython-input-1-71f5cbc71a5b>\u001b[0m in \u001b[0;36m<module>\u001b[1;34m()\u001b[0m\n\u001b[0;32m      1\u001b[0m \u001b[1;31m# 將檔案切出2018年\u001b[0m\u001b[1;33m\u001b[0m\u001b[1;33m\u001b[0m\u001b[0m\n\u001b[1;32m----> 2\u001b[1;33m \u001b[0mY2018_dataset\u001b[0m \u001b[1;33m=\u001b[0m \u001b[0mdataset\u001b[0m\u001b[1;33m.\u001b[0m\u001b[0mloc\u001b[0m\u001b[1;33m[\u001b[0m\u001b[0mdataset\u001b[0m\u001b[1;33m[\u001b[0m\u001b[1;34m\"日期\"\u001b[0m\u001b[1;33m]\u001b[0m\u001b[1;33m>=\u001b[0m\u001b[1;36m20179999.0\u001b[0m\u001b[1;33m]\u001b[0m\u001b[1;33m\u001b[0m\u001b[0m\n\u001b[0m\u001b[0;32m      3\u001b[0m \u001b[0mY2018_dataset\u001b[0m\u001b[1;33m.\u001b[0m\u001b[0mindex\u001b[0m \u001b[1;33m=\u001b[0m \u001b[0mrange\u001b[0m\u001b[1;33m(\u001b[0m\u001b[0mlen\u001b[0m\u001b[1;33m(\u001b[0m\u001b[0mY2018_dataset\u001b[0m\u001b[1;33m)\u001b[0m\u001b[1;33m)\u001b[0m\u001b[1;33m\u001b[0m\u001b[0m\n\u001b[0;32m      4\u001b[0m \u001b[1;33m\u001b[0m\u001b[0m\n\u001b[0;32m      5\u001b[0m \u001b[1;31m# 找出去年的3個禮拜 normalize\u001b[0m\u001b[1;33m\u001b[0m\u001b[1;33m\u001b[0m\u001b[0m\n",
      "\u001b[1;31mNameError\u001b[0m: name 'dataset' is not defined"
     ]
    }
   ],
   "source": [
    "# 將檔案切出2018年\n",
    "Y2018_dataset = dataset.loc[dataset[\"日期\"]>=20179999.0]\n",
    "Y2018_dataset.index = range(len(Y2018_dataset))\n",
    "\n",
    "# 找出去年的3個禮拜 normalize\n",
    "mask1 = Y2018_dataset[\"日期\"]>=20180326.0\n",
    "mask2 = Y2018_dataset[\"日期\"]<=20180415.0\n",
    "testData = Y2018_dataset.loc[mask1&mask2]\n",
    "testData = p.normalizeTest(testData,mean,std)\n",
    "\n",
    "td = []  # 要input的input1\n",
    "td.extend(testData[:,0:5].flatten())\n",
    "\n",
    "preWeek_d = [326,327,328,329,330,331,401]\n",
    "mean_d = mean[0]\n",
    "std_d = std[0]\n",
    "preWeek_d_n = (preWeek_d - mean_d) / std_d  # 正規劃\n",
    "\n",
    "td.extend(preWeek_d_n)\n",
    "\n",
    "# input2 => 上個禮拜的尖峰電量\n",
    "testIntput2  = [28756,29140,30093,29673,25810,24466,28535]"
   ]
  },
  {
   "cell_type": "markdown",
   "metadata": {},
   "source": [
    "### reload model"
   ]
  },
  {
   "cell_type": "code",
   "execution_count": null,
   "metadata": {},
   "outputs": [],
   "source": [
    "# 讀訓練好的model\n",
    "model = load_model(r'model/weights.best.hdf5', custom_objects={'root_mean_squared_error': root_mean_squared_error})\n",
    "# model = load_model(r'model/weights.best.hdf5')"
   ]
  },
  {
   "cell_type": "markdown",
   "metadata": {},
   "source": [
    "###  predic"
   ]
  },
  {
   "cell_type": "code",
   "execution_count": null,
   "metadata": {},
   "outputs": [],
   "source": [
    "predic = model.predict([[[td]],[[testIntput2]]])"
   ]
  },
  {
   "cell_type": "markdown",
   "metadata": {},
   "source": [
    "### write csv"
   ]
  },
  {
   "cell_type": "code",
   "execution_count": null,
   "metadata": {},
   "outputs": [],
   "source": [
    "with open(\"submission.csv\",'w') as f:\n",
    "    f.write(\"date,peak_load(MW)\"+\"\\n\")\n",
    "    f.write(\"20190402, \"+str(predic[0][0][0])+\"\\n\")\n",
    "    f.write(\"20190403, \"+str(predic[0][0][1])+\"\\n\")\n",
    "    f.write(\"20190404, \"+str(predic[0][0][2])+\"\\n\")\n",
    "    f.write(\"20190405, \"+str(predic[0][0][3])+\"\\n\")\n",
    "    f.write(\"20190406, \"+str(predic[0][0][4])+\"\\n\")\n",
    "    f.write(\"20190407, \"+str(predic[0][0][5])+\"\\n\")\n",
    "    f.write(\"20190408, \"+str(predic[0][0][6])+\"\\n\")"
   ]
  }
 ],
 "metadata": {
  "kernelspec": {
   "display_name": "Python 3",
   "language": "python",
   "name": "python3"
  },
  "language_info": {
   "codemirror_mode": {
    "name": "ipython",
    "version": 3
   },
   "file_extension": ".py",
   "mimetype": "text/x-python",
   "name": "python",
   "nbconvert_exporter": "python",
   "pygments_lexer": "ipython3",
   "version": "3.6.5"
  }
 },
 "nbformat": 4,
 "nbformat_minor": 2
}

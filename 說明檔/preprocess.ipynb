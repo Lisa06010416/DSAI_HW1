{
 "cells": [
  {
   "cell_type": "markdown",
   "metadata": {},
   "source": [
    "### import library"
   ]
  },
  {
   "cell_type": "code",
   "execution_count": 1,
   "metadata": {},
   "outputs": [],
   "source": [
    "import pandas as pd\n",
    "from sklearn import preprocessing\n",
    "import  numpy as np"
   ]
  },
  {
   "cell_type": "markdown",
   "metadata": {},
   "source": [
    "### readFIle fun"
   ]
  },
  {
   "cell_type": "code",
   "execution_count": 2,
   "metadata": {},
   "outputs": [],
   "source": [
    "def readFIle(path, type=1):\n",
    "    if type == 1:\n",
    "        dataset = pd.read_csv(path)\n",
    "        dataset = dataset.astype(float)  # 將data轉type\n",
    "    return dataset"
   ]
  },
  {
   "cell_type": "markdown",
   "metadata": {},
   "source": [
    "### normalize"
   ]
  },
  {
   "cell_type": "code",
   "execution_count": 3,
   "metadata": {},
   "outputs": [],
   "source": [
    "def normalize(dataset):\n",
    "    # 日期刪掉年份\n",
    "    dataset[\"日期\"] = (dataset[\"日期\"] % 10000.)\n",
    "\n",
    "    # 正規化\n",
    "    dataset = preprocessing.scale(dataset)\n",
    "    scaler = preprocessing.StandardScaler().fit(dataset)\n",
    "    preprocessing.StandardScaler(copy=True, with_mean=True, with_std=True)\n",
    "    dataset = scaler.transform(dataset)\n",
    "\n",
    "    return dataset"
   ]
  },
  {
   "cell_type": "markdown",
   "metadata": {},
   "source": [
    "### normalize2"
   ]
  },
  {
   "cell_type": "code",
   "execution_count": null,
   "metadata": {},
   "outputs": [],
   "source": [
    "def normalizeTest(dataset,mean,std):\n",
    "\n",
    "    # 日期刪掉年份\n",
    "    dataset[\"日期\"] = (dataset[\"日期\"] % 10000.)\n",
    "    # print('dataset:')\n",
    "    # print(dataset)\n",
    "\n",
    "    mean = dataset.mean(axis=0)\n",
    "    std = dataset.std(axis=0)\n",
    "    dataset = dataset - mean\n",
    "    dataset = dataset / std\n",
    "\n",
    "    dataset[np.isnan(dataset)] = 1e-9\n",
    "    dataset[dataset == 0] = 1e-9\n",
    "\n",
    "    # print(\"normalize:\")\n",
    "    # print(dataset)\n",
    "    return dataset.values"
   ]
  },
  {
   "cell_type": "markdown",
   "metadata": {},
   "source": [
    "### getTraindata"
   ]
  },
  {
   "cell_type": "code",
   "execution_count": 4,
   "metadata": {},
   "outputs": [],
   "source": [
    "def getTraindata(dataset_old, dataset_new,mean,std):\n",
    "    trainData = []\n",
    "    target = []\n",
    "    intput2 = []\n",
    "    day = 7\n",
    "\n",
    "    dataset_old_n = normalizeTest(dataset_old,mean,std)\n",
    "    dataset_new_n = normalizeTest(dataset_new,mean,std)\n",
    "    for i in range(len(dataset_new)):\n",
    "        l_index = i - day\n",
    "        r_index = i + day * 2\n",
    "        if (l_index) >= 0 and (r_index) <= len(dataset_old):\n",
    "            if (i + day) <= (len(dataset_new)):\n",
    "                td = []\n",
    "                td.extend(dataset_old_n[l_index:r_index, 0:5].flatten())  # 要預測的7天  去年同時間的前一個禮拜到後一個禮拜\n",
    "                # td.extend(dataset_new_n[l_index:i, 2].flatten())  # 前7天\n",
    "                td.extend(dataset_new_n[l_index:i, 0].flatten())  # 前7天\n",
    "                trainData.append(td)\n",
    "\n",
    "                intput2.append(dataset_old.iloc[i:i + day, 2])\n",
    "\n",
    "                target.append(dataset_new.iloc[i:i + day, 2])\n",
    "                # target.append(dataset_new.iloc[i:i+day,1])\n",
    "\n",
    "    return trainData, target, intput2"
   ]
  }
 ],
 "metadata": {
  "kernelspec": {
   "display_name": "Python 3",
   "language": "python",
   "name": "python3"
  },
  "language_info": {
   "codemirror_mode": {
    "name": "ipython",
    "version": 3
   },
   "file_extension": ".py",
   "mimetype": "text/x-python",
   "name": "python",
   "nbconvert_exporter": "python",
   "pygments_lexer": "ipython3",
   "version": "3.6.5"
  }
 },
 "nbformat": 4,
 "nbformat_minor": 2
}
